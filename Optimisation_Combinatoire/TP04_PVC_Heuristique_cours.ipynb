{
  "nbformat": 4,
  "nbformat_minor": 0,
  "metadata": {
    "colab": {
      "name": "TP04_PVC_Heuristique_cours.ipynb",
      "provenance": [],
      "collapsed_sections": []
    },
    "kernelspec": {
      "name": "python3",
      "display_name": "Python 3"
    }
  },
  "cells": [
    {
      "cell_type": "code",
      "metadata": {
        "id": "6vSwq6oUlf4-"
      },
      "source": [
        "import networkx as nx \n",
        "import matplotlib.pyplot as plt\n",
        "from datetime import datetime\n",
        "import sys\n",
        "import copy\n",
        "import time\n",
        "from itertools import chain"
      ],
      "execution_count": null,
      "outputs": []
    },
    {
      "cell_type": "code",
      "metadata": {
        "id": "tkTZ8Uk8pPyE"
      },
      "source": [
        "class Graph(object):\n",
        "\n",
        "    def __init__(self, graph_dict=None):\n",
        "        \"\"\" initializes a graph object \n",
        "            If no dictionary or None is given, \n",
        "            an empty dictionary will be used\n",
        "        \"\"\"\n",
        "        if graph_dict == None:\n",
        "            graph_dict = {}\n",
        "        self.__graph_dict = graph_dict\n",
        "\n",
        "    def vertices(self):\n",
        "        \"\"\" returns the vertices of a graph \"\"\"\n",
        "        return list(self.__graph_dict.keys())\n",
        "\n",
        "    def edges(self):\n",
        "        \"\"\" returns the edges of a graph \"\"\"\n",
        "        return self.__generate_edges()\n",
        "\n",
        "    def add_vertex(self, vertex):\n",
        "        \"\"\" If the vertex \"vertex\" is not in \n",
        "            self.__graph_dict, a key \"vertex\" with an empty\n",
        "            list as a value is added to the dictionary. \n",
        "            Otherwise nothing has to be done. \n",
        "        \"\"\"\n",
        "        if vertex not in self.__graph_dict:\n",
        "            self.__graph_dict[vertex] = []\n",
        "\n",
        "    def add_edge(self, edge):\n",
        "        \"\"\" assumes that edge is of type set, tuple or list; \n",
        "            between two vertices can be multiple edges! \n",
        "        \"\"\"\n",
        "        edge = set(edge)\n",
        "        (vertex1, vertex2) = tuple(edge)\n",
        "        if vertex1 in self.__graph_dict:\n",
        "            self.__graph_dict[vertex1].append(vertex2)\n",
        "        else:\n",
        "            self.__graph_dict[vertex1] = [vertex2]\n",
        "\n",
        "    def __generate_edges(self):\n",
        "        \"\"\" A static method generating the edges of the \n",
        "            graph \"graph\". Edges are represented as sets \n",
        "            with one (a loop back to the vertex) or two \n",
        "            vertices \n",
        "        \"\"\"\n",
        "        edges = []\n",
        "        for vertex in self.__graph_dict:\n",
        "            for neighbour in self.__graph_dict[vertex]:\n",
        "                if {neighbour, vertex} not in edges:\n",
        "                    edges.append({vertex, neighbour})\n",
        "        return edges\n",
        "\n",
        "    def find_all_paths(self, start_vertex, end_vertex, path=[]):\n",
        "            \"\"\" find all paths from start_vertex to \n",
        "                end_vertex in graph \"\"\"\n",
        "            graph = self.__graph_dict \n",
        "            path = path + [start_vertex]\n",
        "            if start_vertex == end_vertex:\n",
        "                return [path]\n",
        "            if start_vertex not in graph:\n",
        "                return []\n",
        "            paths = []\n",
        "            for vertex in graph[start_vertex]:\n",
        "                if vertex not in path:\n",
        "                    extended_paths = self.find_all_paths(vertex, \n",
        "                                                        end_vertex, \n",
        "                                                        path)\n",
        "                    for p in extended_paths: \n",
        "                        paths.append(p)\n",
        "            return paths\n",
        "    def vertex_degree(self, vertex):\n",
        "        \"\"\" The degree of a vertex is the number of edges connecting\n",
        "            it, i.e. the number of adjacent vertices. Loops are counted \n",
        "            double, i.e. every occurence of vertex in the list \n",
        "            of adjacent vertices. \"\"\" \n",
        "        adj_vertices =  self.__graph_dict[vertex]\n",
        "        degree = len(adj_vertices) + adj_vertices.count(vertex)\n",
        "        return degree\n",
        "\n",
        "    def find_isolated_vertices(self):\n",
        "        \"\"\" returns a list of isolated vertices. \"\"\"\n",
        "        graph = self.__graph_dict\n",
        "        isolated = []\n",
        "        for vertex in graph:\n",
        "            print(isolated, vertex)\n",
        "            if not graph[vertex]:\n",
        "                isolated += [vertex]\n",
        "        return isolated\n",
        "\n",
        "    def delta(self):\n",
        "        \"\"\" the minimum degree of the vertices \"\"\"\n",
        "        min = 100000000\n",
        "        for vertex in self.__graph_dict:\n",
        "            vertex_degree = self.vertex_degree(vertex)\n",
        "            if vertex_degree < min:\n",
        "                min = vertex_degree\n",
        "        return min\n",
        "        \n",
        "    def Delta(self):\n",
        "        \"\"\" the maximum degree of the vertices \"\"\"\n",
        "        max = 0\n",
        "        for vertex in self.__graph_dict:\n",
        "            vertex_degree = self.vertex_degree(vertex)\n",
        "            if vertex_degree > max:\n",
        "                max = vertex_degree\n",
        "        return max\n",
        "\n",
        "    def density(self):\n",
        "        \"\"\" method to calculate the density of a graph \"\"\"\n",
        "        g = self.__graph_dict\n",
        "        V = len(g.keys())\n",
        "        E = len(self.edges())\n",
        "        return 2.0 * E / (V *(V - 1))\n",
        "\n",
        "    def is_connected(self, \n",
        "                     vertices_encountered = None, \n",
        "                     start_vertex=None):\n",
        "        \"\"\" determines if the graph is connected \"\"\"\n",
        "        if vertices_encountered is None:\n",
        "            vertices_encountered = set()\n",
        "        gdict = self.__graph_dict        \n",
        "        vertices = list(gdict.keys()) # \"list\" necessary in Python 3 \n",
        "        if not start_vertex:\n",
        "            # chosse a vertex from graph as a starting point\n",
        "            start_vertex = vertices[0]\n",
        "        vertices_encountered.add(start_vertex)\n",
        "        if len(vertices_encountered) != len(vertices):\n",
        "            for vertex in gdict[start_vertex]:\n",
        "                if vertex not in vertices_encountered:\n",
        "                    if self.is_connected(vertices_encountered, vertex):\n",
        "                        return True\n",
        "        else:\n",
        "            return True\n",
        "        return False \n",
        "\n",
        "    def diameter(self):\n",
        "        \"\"\" calculates the diameter of the graph \"\"\"\n",
        "        \n",
        "        v = self.vertices() \n",
        "        pairs = [ (v[i],v[j]) for i in range(len(v)-1) for j in range(i+1, len(v))]\n",
        "        smallest_paths = []\n",
        "        for (s,e) in pairs:\n",
        "            paths = self.find_all_paths(s,e)\n",
        "            smallest = sorted(paths, key=len)[0]\n",
        "            smallest_paths.append(smallest)\n",
        "\n",
        "        smallest_paths.sort(key=len)\n",
        "\n",
        "        # longest path is at the end of list, \n",
        "        # i.e. diameter corresponds to the length of this path\n",
        "        diameter = len(smallest_paths[-1]) - 1\n",
        "        return diameter\n",
        "    \n",
        "    def __str__(self):\n",
        "        res = \"vertices: \"\n",
        "        for k in self.__graph_dict:\n",
        "            res += str(k) + \" \"\n",
        "        res += \"\\nedges: \"\n",
        "        for edge in self.__generate_edges():\n",
        "            res += str(edge) + \" \"\n",
        "        return res"
      ],
      "execution_count": null,
      "outputs": []
    },
    {
      "cell_type": "code",
      "metadata": {
        "id": "qWoJ4Dczl0ui",
        "colab": {
          "base_uri": "https://localhost:8080/"
        },
        "outputId": "99703704-e00d-4492-83b2-bb5472241da2"
      },
      "source": [
        "matrix = [\n",
        "            [0, 10, 11, 12, 13, 14],\n",
        "            [10, 0, 15, 16, 17, 18],\n",
        "            [11, 15, 0, 19, 20, 21],\n",
        "            [12, 16, 19, 0, 22, 23],\n",
        "            [13, 17, 20, 22, 0, 24],\n",
        "            [14, 18, 21, 23, 24, 0]          \n",
        "]\n",
        "nodes = [1, 2, 3, 4, 5, 6]\n",
        "n = len(nodes)\n",
        "weights = list(chain.from_iterable(matrix))\n",
        "# Create a graph \n",
        "gr = nx.Graph()\n",
        "for n in nodes:\n",
        "  gr.add_node(n) \n",
        "#sort edges\n",
        "# Relative sorted order in Matrix \n",
        "# using list comprehension + enumerate() + sort() + lambda \n",
        "res = [(i+1, j+1) for i, x in enumerate(matrix) for j, _ in enumerate(x)]\n",
        "#-----------------------------------------------------------------\n",
        "start_time = datetime.now()\n",
        "degree = [0 for i in range(n)]\n",
        "chosen_edges =[]\n",
        "g = dict(zip(res, weights))\n",
        "g=dict(sorted(g.items(), key=lambda item: item[1]))\n",
        "#sort g\n",
        "sorted_values = sorted(g.values()) # Sort the values\n",
        "gx = {}\n",
        "for i in sorted_values:\n",
        "    for k in g.keys():\n",
        "        if g[k] == i:\n",
        "            gx[k] = g[k]\n",
        "            break\n",
        "del gx[(1,1)]\n",
        "key_list = list(gx.keys())\n",
        "#print(\"!!!\",key_list)\n",
        "val_list = list(gx.values())\n",
        "#print(\"VVV\",val_list)\n",
        "cost = 0\n",
        "for k in key_list:\n",
        "   if ((degree[k[0]-1] < 2) and (degree[k[1]-1] < 2)):\n",
        "      gr.add_edge(k[0]+1,k[1]+1)\n",
        "      if ((nx.cycle_basis(gr,k[0]+1)) and (len(chosen_edges) != n-1)):\n",
        "        gr.remove_edge(k[0]+1,k[1]+1)\n",
        "      else:\n",
        "        \n",
        "        cost =cost + val_list[key_list.index(k)]\n",
        "        chosen_edges.append(k)\n",
        "        degree[k[0]-1]=degree[k[0]-1]+ 1\n",
        "        degree[k[1]-1]=degree[k[1]-1]+ 1  \n",
        "end_time = datetime.now()\n",
        "print(\"les aretes choisie :\",chosen_edges)\n",
        "print(\"le cout :\",cost)\n",
        "\n"
      ],
      "execution_count": null,
      "outputs": [
        {
          "output_type": "stream",
          "text": [
            "les aretes choisie : [(1, 2), (1, 3), (2, 4), (3, 5), (4, 6), (5, 6)]\n",
            "le cout : 104\n"
          ],
          "name": "stdout"
        }
      ]
    },
    {
      "cell_type": "code",
      "metadata": {
        "colab": {
          "base_uri": "https://localhost:8080/"
        },
        "id": "9PlJraYjP4dL",
        "outputId": "5522a8a4-260c-439c-f212-54fcaf664b97"
      },
      "source": [
        "print(\"Starting city: '1'\")\n",
        "path = []\n",
        "visited = False\n",
        "path.append(1)\n",
        "while(len(path) < n+1):\n",
        "  for i in chosen_edges:\n",
        "    k = len(path)\n",
        "    if (i[0] == path[k-1])  : \n",
        "      path.append(i[1]) \n",
        "    elif (i[1] == path[k-1])  : \n",
        "      path.append(i[0])\n",
        "     \n",
        "path \n"
      ],
      "execution_count": null,
      "outputs": [
        {
          "output_type": "stream",
          "text": [
            "Starting city: '1'\n"
          ],
          "name": "stdout"
        },
        {
          "output_type": "execute_result",
          "data": {
            "text/plain": [
              "[1, 2, 4, 6, 5, 3, 1]"
            ]
          },
          "metadata": {
            "tags": []
          },
          "execution_count": 4
        }
      ]
    },
    {
      "cell_type": "code",
      "metadata": {
        "colab": {
          "base_uri": "https://localhost:8080/",
          "height": 392
        },
        "id": "VZ1AEWH6SEG6",
        "outputId": "b0002e79-3df0-4c86-8958-1f29ab7e15c1"
      },
      "source": [
        "G = nx.Graph()\n",
        "for n in nodes:\n",
        "  G.add_node(n)\n",
        "  for e in nodes:\n",
        "    if (e != n):\n",
        "      G.add_edge(n,e)\n",
        "\n",
        "graph = Graph(nodes)\n",
        "color_map = []   \n",
        "find = True\n",
        "for n in G.edges:\n",
        "  for i in range(len(path)-1):\n",
        "    if (n == (path[i],path[i+1]) or n ==(path[i+1],path[i])) and find == True: \n",
        "      color_map.append('green') \n",
        "      find = False  \n",
        "       \n",
        "  if find == True: enter:color_map.append('lightblue')    \n",
        "  find = True\n",
        "color_map2 = []\n",
        "for node in G.nodes:\n",
        "    if node == path[0]:\n",
        "        color_map2.append('lightgreen')\n",
        "    else: color_map2.append('lightblue')\n",
        "nx.draw(G,with_labels=1,edge_color=color_map,node_color=color_map2)\n",
        "print(\"Starting city: '1'\")\n",
        "print(\"Path :\",path)\n",
        "print(\"Cost:\",cost)\n",
        "print('Duration: {}'.format(end_time - start_time))"
      ],
      "execution_count": null,
      "outputs": [
        {
          "output_type": "stream",
          "text": [
            "Starting city: '1'\n",
            "Path : [1, 2, 4, 6, 5, 3, 1]\n",
            "Cost: 104\n",
            "Duration: 0:00:00.000795\n"
          ],
          "name": "stdout"
        },
        {
          "output_type": "display_data",
          "data": {
            "image/png": "[encoded data removed]",
            "text/plain": [
              "<Figure size 432x288 with 1 Axes>"
            ]
          },
          "metadata": {
            "tags": []
          }
        }
      ]
    }
  ]
}